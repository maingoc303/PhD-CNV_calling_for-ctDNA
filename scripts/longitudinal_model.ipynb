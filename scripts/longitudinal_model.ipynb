from leaspy import AlgorithmSettings, Data, Leaspy
import pandas as pd
import numpy as np
